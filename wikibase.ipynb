{
 "cells": [
  {
   "cell_type": "code",
   "execution_count": 1,
   "id": "84e7f504",
   "metadata": {},
   "outputs": [],
   "source": [
    "wikidata_user_agent_header = \"DiegoBot /0.0\""
   ]
  },
  {
   "cell_type": "code",
   "execution_count": 2,
   "id": "fb564e23",
   "metadata": {},
   "outputs": [],
   "source": [
    "def get_nested_value(o: dict, path: list) -> any:\n",
    "    current = o\n",
    "    for key in path:\n",
    "        try:\n",
    "            current = current[key]\n",
    "        except:\n",
    "            return None\n",
    "    return current\n",
    "\n",
    "import requests\n",
    "\n",
    "from typing import Optional\n",
    "\n",
    "def vocab_lookup(search: str, entity_type: str = \"item\",\n",
    "                 url: str = \"https://www.wikidata.org/w/api.php\",\n",
    "                 user_agent_header: str = wikidata_user_agent_header,\n",
    "                 srqiprofile: str = None,\n",
    "                ) -> Optional[str]:    \n",
    "    headers = {\n",
    "        'Accept': 'application/json'\n",
    "    }\n",
    "    if wikidata_user_agent_header is not None:\n",
    "        headers['User-Agent'] = wikidata_user_agent_header\n",
    "    \n",
    "    if entity_type == \"item\":\n",
    "        srnamespace = 0\n",
    "        srqiprofile = \"classic_noboostlinks\" if srqiprofile is None else srqiprofile\n",
    "    elif entity_type == \"property\":\n",
    "        srnamespace = 120\n",
    "        srqiprofile = \"classic\" if srqiprofile is None else srqiprofile\n",
    "    else:\n",
    "        raise ValueError(\"entity_type must be either 'property' or 'item'\")          \n",
    "    \n",
    "    params = {\n",
    "        \"action\": \"query\",\n",
    "        \"list\": \"search\",\n",
    "        \"srsearch\": search,\n",
    "        \"srnamespace\": srnamespace,\n",
    "        \"srlimit\": 1,\n",
    "        \"srqiprofile\": srqiprofile,\n",
    "        \"srwhat\": 'text',\n",
    "        \"format\": \"json\"\n",
    "    }\n",
    "    \n",
    "    response = requests.get(url, headers=headers, params=params)\n",
    "        \n",
    "    if response.status_code == 200:\n",
    "        title = get_nested_value(response.json(), ['query', 'search', 0, 'title'])\n",
    "        if title is None:\n",
    "            return f\"I couldn't find any {entity_type} for '{search}'. Please rephrase your request and try again\"\n",
    "        # if there is a prefix, strip it off\n",
    "        return title.split(':')[-1]\n",
    "    else:\n",
    "        return \"Sorry, I got an error. Please try again.\""
   ]
  },
  {
   "cell_type": "code",
   "execution_count": 3,
   "id": "46916ae1",
   "metadata": {},
   "outputs": [
    {
     "name": "stdout",
     "output_type": "stream",
     "text": [
      "Q4180017\n"
     ]
    }
   ],
   "source": [
    "print(vocab_lookup(\"Malin 1\"))"
   ]
  },
  {
   "cell_type": "code",
   "execution_count": 4,
   "id": "af9497c9",
   "metadata": {},
   "outputs": [],
   "source": [
    "import requests\n",
    "from typing import List, Dict, Any\n",
    "import json\n",
    "\n",
    "def run_sparql(query: str, url='https://query.wikidata.org/sparql',\n",
    "               user_agent_header: str = wikidata_user_agent_header) -> List[Dict[str, Any]]:\n",
    "    headers = {\n",
    "        'Accept': 'application/json'\n",
    "    }\n",
    "    if wikidata_user_agent_header is not None:\n",
    "        headers['User-Agent'] = wikidata_user_agent_header\n",
    "\n",
    "    response = requests.get(url, headers=headers, params={'query': query, 'format': 'json'})\n",
    "\n",
    "    if response.status_code != 200:\n",
    "        return \"That query failed. Perhaps you could try a different one?\"\n",
    "    results = get_nested_value(response.json(),['results', 'bindings'])\n",
    "    return json.dumps(results)"
   ]
  },
  {
   "cell_type": "code",
   "execution_count": 5,
   "id": "2aaa5c22",
   "metadata": {},
   "outputs": [
    {
     "data": {
      "text/plain": [
       "'[{\"count\": {\"datatype\": \"http://www.w3.org/2001/XMLSchema#integer\", \"type\": \"literal\", \"value\": \"20\"}}]'"
      ]
     },
     "execution_count": 5,
     "metadata": {},
     "output_type": "execute_result"
    }
   ],
   "source": [
    "run_sparql(\"SELECT (COUNT(?children) as ?count) WHERE { wd:Q1339 wdt:P40 ?children . }\")\n"
   ]
  },
  {
   "cell_type": "code",
   "execution_count": 6,
   "id": "5675f394",
   "metadata": {},
   "outputs": [],
   "source": [
    "\n",
    "\n",
    "from langchain.agents import Tool, AgentExecutor, LLMSingleActionAgent, AgentOutputParser\n",
    "from langchain.prompts import StringPromptTemplate\n",
    "from langchain import OpenAI, LLMChain\n",
    "from typing import List, Union\n",
    "from langchain.schema import AgentAction, AgentFinish\n",
    "import re\n",
    "\n"
   ]
  },
  {
   "cell_type": "code",
   "execution_count": 7,
   "id": "3e3e1263",
   "metadata": {},
   "outputs": [],
   "source": [
    "\n",
    "\n",
    "# Define which tools the agent can use to answer user queries\n",
    "tools = [\n",
    "    Tool(\n",
    "        name = \"ItemLookup\",\n",
    "        func=(lambda x: vocab_lookup(x, entity_type=\"item\")),\n",
    "        description=\"useful for when you need to know the q-number for an item\"\n",
    "    ),\n",
    "    Tool(\n",
    "        name = \"PropertyLookup\",\n",
    "        func=(lambda x: vocab_lookup(x, entity_type=\"property\")),\n",
    "        description=\"useful for when you need to know the p-number for a property\"\n",
    "    ),\n",
    "    Tool(\n",
    "        name = \"SparqlQueryRunner\",\n",
    "        func=run_sparql,\n",
    "        description=\"useful for getting results from a wikibase\"\n",
    "    )    \n",
    "]\n",
    "\n"
   ]
  },
  {
   "cell_type": "code",
   "execution_count": 8,
   "id": "8372dd6b",
   "metadata": {},
   "outputs": [],
   "source": [
    "\n",
    "\n",
    "# Set up the base template\n",
    "template = \"\"\"\n",
    "Answer the following questions by running a sparql query against a wikibase where the p and q items are \n",
    "completely unknown to you. You will need to discover the p and q items before you can generate the sparql.\n",
    "Do not assume you know the p and q items for any concepts. Always use tools to find all p and q items.\n",
    "After you generate the sparql, you should run it. The results will be returned in json. \n",
    "Summarize the json results in natural language.\n",
    "\n",
    "You may assume the following prefixes:\n",
    "PREFIX wd: <http://www.wikidata.org/entity/>\n",
    "PREFIX wdt: <http://www.wikidata.org/prop/direct/>\n",
    "PREFIX p: <http://www.wikidata.org/prop/>\n",
    "PREFIX ps: <http://www.wikidata.org/prop/statement/>\n",
    "\n",
    "When generating sparql:\n",
    "* Try to avoid \"count\" and \"filter\" queries if possible\n",
    "* Never enclose the sparql in back-quotes\n",
    "\n",
    "You have access to the following tools:\n",
    "\n",
    "{tools}\n",
    "\n",
    "Use the following format:\n",
    "\n",
    "Question: the input question for which you must provide a natural language answer\n",
    "Thought: you should always think about what to do\n",
    "Action: the action to take, should be one of [{tool_names}]\n",
    "Action Input: the input to the action\n",
    "Observation: the result of the action\n",
    "... (this Thought/Action/Action Input/Observation can repeat N times)\n",
    "Thought: I now know the final answer\n",
    "Final Answer: the final answer to the original input question\n",
    "\n",
    "Question: {input}\n",
    "{agent_scratchpad}\"\"\"\n",
    "\n"
   ]
  },
  {
   "cell_type": "code",
   "execution_count": 9,
   "id": "f8a9a787",
   "metadata": {},
   "outputs": [],
   "source": [
    "# Set up a prompt template\n",
    "class CustomPromptTemplate(StringPromptTemplate):\n",
    "    # The template to use\n",
    "    template: str\n",
    "    # The list of tools available\n",
    "    tools: List[Tool]\n",
    "    \n",
    "    def format(self, **kwargs) -> str:\n",
    "        # Get the intermediate steps (AgentAction, Observation tuples)\n",
    "        # Format them in a particular way\n",
    "        intermediate_steps = kwargs.pop(\"intermediate_steps\")\n",
    "        thoughts = \"\"\n",
    "        for action, observation in intermediate_steps:\n",
    "            thoughts += action.log\n",
    "            thoughts += f\"\\nObservation: {observation}\\nThought: \"\n",
    "        # Set the agent_scratchpad variable to that value\n",
    "        kwargs[\"agent_scratchpad\"] = thoughts\n",
    "        # Create a tools variable from the list of tools provided\n",
    "        kwargs[\"tools\"] = \"\\n\".join([f\"{tool.name}: {tool.description}\" for tool in self.tools])\n",
    "        # Create a list of tool names for the tools provided\n",
    "        kwargs[\"tool_names\"] = \", \".join([tool.name for tool in self.tools])\n",
    "        return self.template.format(**kwargs)"
   ]
  },
  {
   "cell_type": "code",
   "execution_count": 10,
   "id": "6aba448a",
   "metadata": {},
   "outputs": [],
   "source": [
    "\n",
    "\n",
    "prompt = CustomPromptTemplate(\n",
    "    template=template,\n",
    "    tools=tools,\n",
    "    # This omits the `agent_scratchpad`, `tools`, and `tool_names` variables because those are generated dynamically\n",
    "    # This includes the `intermediate_steps` variable because that is needed\n",
    "    input_variables=[\"input\", \"intermediate_steps\"]\n",
    ")\n",
    "\n"
   ]
  },
  {
   "cell_type": "code",
   "execution_count": 11,
   "id": "b6f492b0",
   "metadata": {},
   "outputs": [],
   "source": [
    "class CustomOutputParser(AgentOutputParser):\n",
    "    \n",
    "    def parse(self, llm_output: str) -> Union[AgentAction, AgentFinish]:\n",
    "        # Check if agent should finish\n",
    "        if \"Final Answer:\" in llm_output:\n",
    "            return AgentFinish(\n",
    "                # Return values is generally always a dictionary with a single `output` key\n",
    "                # It is not recommended to try anything else at the moment :)\n",
    "                return_values={\"output\": llm_output.split(\"Final Answer:\")[-1].strip()},\n",
    "                log=llm_output,\n",
    "            )\n",
    "        # Parse out the action and action input\n",
    "        regex = r\"Action: (.*?)[\\n]*Action Input:[\\s]*(.*)\"\n",
    "        match = re.search(regex, llm_output, re.DOTALL)\n",
    "        if not match:\n",
    "            raise ValueError(f\"Could not parse LLM output: `{llm_output}`\")\n",
    "        action = match.group(1).strip()\n",
    "        action_input = match.group(2)\n",
    "        # Return the action and action input\n",
    "        return AgentAction(tool=action, tool_input=action_input.strip(\" \").strip('\"'), log=llm_output)\n"
   ]
  },
  {
   "cell_type": "code",
   "execution_count": 12,
   "id": "5187a1ec",
   "metadata": {},
   "outputs": [],
   "source": [
    "output_parser = CustomOutputParser()"
   ]
  },
  {
   "cell_type": "code",
   "execution_count": 14,
   "id": "4083fc0b",
   "metadata": {},
   "outputs": [],
   "source": [
    "from langchain.chat_models import ChatOpenAI\n",
    "llm = ChatOpenAI(model_name=\"gpt-4\", temperature=0)"
   ]
  },
  {
   "cell_type": "code",
   "execution_count": 15,
   "id": "69cca1e0",
   "metadata": {},
   "outputs": [],
   "source": [
    "\n",
    "\n",
    "# LLM chain consisting of the LLM and a prompt\n",
    "llm_chain = LLMChain(llm=llm, prompt=prompt)\n",
    "\n"
   ]
  },
  {
   "cell_type": "code",
   "execution_count": 16,
   "id": "7502f94c",
   "metadata": {},
   "outputs": [],
   "source": [
    "\n",
    "\n",
    "tool_names = [tool.name for tool in tools]\n",
    "agent = LLMSingleActionAgent(\n",
    "    llm_chain=llm_chain, \n",
    "    output_parser=output_parser,\n",
    "    stop=[\"\\nObservation:\"], \n",
    "    allowed_tools=tool_names\n",
    ")\n",
    "\n"
   ]
  },
  {
   "cell_type": "code",
   "execution_count": 17,
   "id": "a37c844a",
   "metadata": {},
   "outputs": [],
   "source": [
    "\n",
    "agent_executor = AgentExecutor.from_agent_and_tools(agent=agent, tools=tools, verbose=True)\n",
    "\n"
   ]
  },
  {
   "cell_type": "code",
   "execution_count": 18,
   "id": "154efbd2",
   "metadata": {},
   "outputs": [
    {
     "name": "stdout",
     "output_type": "stream",
     "text": [
      "\n",
      "\n",
      "\u001b[1m> Entering new AgentExecutor chain...\u001b[0m\n",
      "\u001b[32;1m\u001b[1;3mThought: I need to find the q-number for J.S. Bach.\n",
      "Action: ItemLookup\n",
      "Action Input: J.S. Bach\u001b[0m\n",
      "\n",
      "Observation:\u001b[36;1m\u001b[1;3mQ1339\u001b[0m\n",
      "\u001b[32;1m\u001b[1;3mI need to find the p-number for \"number of children.\"\n",
      "Action: PropertyLookup\n",
      "Action Input: number of children\u001b[0m\n",
      "\n",
      "Observation:\u001b[33;1m\u001b[1;3mP1971\u001b[0m\n",
      "\u001b[32;1m\u001b[1;3mI can now run a sparql query to find the number of children J.S. Bach had.\n",
      "Action: SparqlQueryRunner\n",
      "Action Input: SELECT ?children WHERE { wd:Q1339 wdt:P1971 ?children }\u001b[0m\n",
      "\n",
      "Observation:\u001b[38;5;200m\u001b[1;3m[{\"children\": {\"datatype\": \"http://www.w3.org/2001/XMLSchema#decimal\", \"type\": \"literal\", \"value\": \"20\"}}]\u001b[0m\n",
      "\u001b[32;1m\u001b[1;3mI now know the final answer.\n",
      "Final Answer: J.S. Bach had 20 children.\u001b[0m\n",
      "\n",
      "\u001b[1m> Finished chain.\u001b[0m\n"
     ]
    },
    {
     "data": {
      "text/plain": [
       "'J.S. Bach had 20 children.'"
      ]
     },
     "execution_count": 18,
     "metadata": {},
     "output_type": "execute_result"
    }
   ],
   "source": [
    "\n",
    "\n",
    "agent_executor.run(\"How many children did J.S. Bach have?\")\n",
    "\n"
   ]
  },
  {
   "cell_type": "code",
   "execution_count": 19,
   "id": "48386c1a",
   "metadata": {},
   "outputs": [
    {
     "name": "stdout",
     "output_type": "stream",
     "text": [
      "\n",
      "\n",
      "\u001b[1m> Entering new AgentExecutor chain...\u001b[0m\n"
     ]
    },
    {
     "name": "stderr",
     "output_type": "stream",
     "text": [
      "Retrying langchain.chat_models.openai.ChatOpenAI.completion_with_retry.<locals>._completion_with_retry in 1.0 seconds as it raised RateLimitError: That model is currently overloaded with other requests. You can retry your request, or contact us through our help center at help.openai.com if the error persists. (Please include the request ID 3f23368fa7bcf33e9a80b753f09a2377 in your message.).\n"
     ]
    },
    {
     "name": "stdout",
     "output_type": "stream",
     "text": [
      "\u001b[32;1m\u001b[1;3mThought: I need to find the Q number for Hakeem Olajuwon.\n",
      "Action: ItemLookup\n",
      "Action Input: Hakeem Olajuwon\u001b[0m\n",
      "\n",
      "Observation:\u001b[36;1m\u001b[1;3mQ273256\u001b[0m\n",
      "\u001b[32;1m\u001b[1;3mI need to find the P number for Basketball-Reference.com NBA player ID.\n",
      "Action: PropertyLookup\n",
      "Action Input: Basketball-Reference.com NBA player ID\u001b[0m\n",
      "\n",
      "Observation:\u001b[33;1m\u001b[1;3mP2685\u001b[0m\n",
      "\u001b[32;1m\u001b[1;3mI have the Q number for Hakeem Olajuwon and the P number for Basketball-Reference.com NBA player ID. Now I can create and run a SPARQL query to find the ID.\n",
      "Action: SparqlQueryRunner\n",
      "Action Input: \n",
      "SELECT ?id WHERE {\n",
      "  wd:Q273256 wdt:P2685 ?id .\n",
      "}\u001b[0m\n",
      "\n",
      "Observation:\u001b[38;5;200m\u001b[1;3m[{\"id\": {\"type\": \"literal\", \"value\": \"o/olajuha01\"}}]\u001b[0m\n",
      "\u001b[32;1m\u001b[1;3mI now know the final answer.\n",
      "Final Answer: The Basketball-Reference.com NBA player ID of Hakeem Olajuwon is \"o/olajuha01\".\u001b[0m\n",
      "\n",
      "\u001b[1m> Finished chain.\u001b[0m\n"
     ]
    },
    {
     "data": {
      "text/plain": [
       "'The Basketball-Reference.com NBA player ID of Hakeem Olajuwon is \"o/olajuha01\".'"
      ]
     },
     "execution_count": 19,
     "metadata": {},
     "output_type": "execute_result"
    }
   ],
   "source": [
    "agent_executor.run(\"What is the Basketball-Reference.com NBA player ID of Hakeem Olajuwon?\")"
   ]
  },
  {
   "cell_type": "code",
   "execution_count": 20,
   "id": "1e0abedd",
   "metadata": {},
   "outputs": [
    {
     "name": "stdout",
     "output_type": "stream",
     "text": [
      "\n",
      "\n",
      "\u001b[1m> Entering new AgentExecutor chain...\u001b[0m\n",
      "\u001b[32;1m\u001b[1;3mThought: I need to find the q-number for Romelo Lukaku.\n",
      "Action: ItemLookup\n",
      "Action Input: Romelo Lukaku\u001b[0m\n",
      "\n",
      "Observation:\u001b[36;1m\u001b[1;3mI couldn't find any item for 'Romelo Lukaku'. Please rephrase your request and try again\u001b[0m\n",
      "\u001b[32;1m\u001b[1;3mI made a typo in the name. It should be Romelu Lukaku.\n",
      "Action: ItemLookup\n",
      "Action Input: Romelu Lukaku\u001b[0m\n",
      "\n",
      "Observation:\u001b[36;1m\u001b[1;3mQ313316\u001b[0m\n",
      "\u001b[32;1m\u001b[1;3mI need to find the p-number for \"member of sports team.\"\n",
      "Action: PropertyLookup\n",
      "Action Input: member of sports team\u001b[0m\n",
      "\n",
      "Observation:\u001b[33;1m\u001b[1;3mP54\u001b[0m\n",
      "\u001b[32;1m\u001b[1;3mI have the q-number for Romelu Lukaku (Q313316) and the p-number for \"member of sports team\" (P54). Now I can create a SPARQL query to find the football teams he played for.\n",
      "Action: SparqlQueryRunner\n",
      "Action Input: \n",
      "SELECT ?team ?teamLabel WHERE {\n",
      "  wd:Q313316 wdt:P54 ?team .\n",
      "  ?team wdt:P31 wd:Q476028 .\n",
      "  SERVICE wikibase:label { bd:serviceParam wikibase:language \"en\". }\n",
      "}\u001b[0m\n",
      "\n",
      "Observation:\u001b[38;5;200m\u001b[1;3m[{\"team\": {\"type\": \"uri\", \"value\": \"http://www.wikidata.org/entity/Q631\"}, \"teamLabel\": {\"xml:lang\": \"en\", \"type\": \"literal\", \"value\": \"Inter Milan\"}}, {\"team\": {\"type\": \"uri\", \"value\": \"http://www.wikidata.org/entity/Q5794\"}, \"teamLabel\": {\"xml:lang\": \"en\", \"type\": \"literal\", \"value\": \"Everton F.C.\"}}, {\"team\": {\"type\": \"uri\", \"value\": \"http://www.wikidata.org/entity/Q9616\"}, \"teamLabel\": {\"xml:lang\": \"en\", \"type\": \"literal\", \"value\": \"Chelsea F.C.\"}}, {\"team\": {\"type\": \"uri\", \"value\": \"http://www.wikidata.org/entity/Q18656\"}, \"teamLabel\": {\"xml:lang\": \"en\", \"type\": \"literal\", \"value\": \"Manchester United F.C.\"}}, {\"team\": {\"type\": \"uri\", \"value\": \"http://www.wikidata.org/entity/Q18744\"}, \"teamLabel\": {\"xml:lang\": \"en\", \"type\": \"literal\", \"value\": \"West Bromwich Albion F.C.\"}}, {\"team\": {\"type\": \"uri\", \"value\": \"http://www.wikidata.org/entity/Q187528\"}, \"teamLabel\": {\"xml:lang\": \"en\", \"type\": \"literal\", \"value\": \"R.S.C. Anderlecht\"}}]\u001b[0m\n",
      "\u001b[32;1m\u001b[1;3mI now know the final answer.\n",
      "Final Answer: Romelu Lukaku played for the following football teams: Inter Milan, Everton F.C., Chelsea F.C., Manchester United F.C., West Bromwich Albion F.C., and R.S.C. Anderlecht.\u001b[0m\n",
      "\n",
      "\u001b[1m> Finished chain.\u001b[0m\n"
     ]
    },
    {
     "data": {
      "text/plain": [
       "'Romelu Lukaku played for the following football teams: Inter Milan, Everton F.C., Chelsea F.C., Manchester United F.C., West Bromwich Albion F.C., and R.S.C. Anderlecht.'"
      ]
     },
     "execution_count": 20,
     "metadata": {},
     "output_type": "execute_result"
    }
   ],
   "source": [
    "agent_executor.run(\"In what football teams did Romelo Lukaku play?\")"
   ]
  },
  {
   "cell_type": "code",
   "execution_count": 21,
   "id": "0d387afc",
   "metadata": {},
   "outputs": [
    {
     "name": "stdout",
     "output_type": "stream",
     "text": [
      "\n",
      "\n",
      "\u001b[1m> Entering new AgentExecutor chain...\u001b[0m\n"
     ]
    },
    {
     "name": "stderr",
     "output_type": "stream",
     "text": [
      "Retrying langchain.chat_models.openai.ChatOpenAI.completion_with_retry.<locals>._completion_with_retry in 1.0 seconds as it raised RateLimitError: That model is currently overloaded with other requests. You can retry your request, or contact us through our help center at help.openai.com if the error persists. (Please include the request ID c9ed47aa9c3caa05a96a97854063bc7b in your message.).\n"
     ]
    },
    {
     "name": "stdout",
     "output_type": "stream",
     "text": [
      "\u001b[32;1m\u001b[1;3mThought: I need to find the q-number for Jonathan Banks.\n",
      "Action: ItemLookup\n",
      "Action Input: Jonathan Banks\u001b[0m\n",
      "\n",
      "Observation:\u001b[36;1m\u001b[1;3mQ198638\u001b[0m\n",
      "\u001b[32;1m\u001b[1;3mI need to find the p-number for \"movies\" or \"films\".\n",
      "Action: PropertyLookup\n",
      "Action Input: film\u001b[0m\n",
      "\n",
      "Observation:\u001b[33;1m\u001b[1;3mP2529\u001b[0m\n",
      "\u001b[32;1m\u001b[1;3mI need to find the p-number for \"acted in\" or \"cast member\".\n",
      "Action: PropertyLookup\n",
      "Action Input: cast member\u001b[0m\n",
      "\n",
      "Observation:\u001b[33;1m\u001b[1;3mP161\u001b[0m\n",
      "\u001b[32;1m\u001b[1;3mI have the q-number for Jonathan Banks and the p-numbers for \"film\" and \"cast member\". Now I can run a sparql query to find the movies he acted in.\n",
      "Action: SparqlQueryRunner\n",
      "Action Input: \n",
      "SELECT ?movie ?movieLabel WHERE {\n",
      "  wd:Q198638 wdt:P161 ?movie .\n",
      "  ?movie wdt:P31 wd:Q11424 .\n",
      "  SERVICE wikibase:label { bd:serviceParam wikibase:language \"en\". }\n",
      "}\u001b[0m\n",
      "\n",
      "Observation:\u001b[38;5;200m\u001b[1;3m[]\u001b[0m\n",
      "\u001b[32;1m\u001b[1;3mI now know the final answer.\n",
      "Final Answer: Jonathan Banks did not act in any movies according to the data available in Wikidata.\u001b[0m\n",
      "\n",
      "\u001b[1m> Finished chain.\u001b[0m\n"
     ]
    },
    {
     "data": {
      "text/plain": [
       "'Jonathan Banks did not act in any movies according to the data available in Wikidata.'"
      ]
     },
     "execution_count": 21,
     "metadata": {},
     "output_type": "execute_result"
    }
   ],
   "source": [
    "agent_executor.run(\"In what movies did Johnathan Banks play?\")"
   ]
  },
  {
   "cell_type": "code",
   "execution_count": null,
   "id": "0b1a46d0",
   "metadata": {},
   "outputs": [],
   "source": []
  }
 ],
 "metadata": {
  "kernelspec": {
   "display_name": "Python 3 (ipykernel)",
   "language": "python",
   "name": "python3"
  },
  "language_info": {
   "codemirror_mode": {
    "name": "ipython",
    "version": 3
   },
   "file_extension": ".py",
   "mimetype": "text/x-python",
   "name": "python",
   "nbconvert_exporter": "python",
   "pygments_lexer": "ipython3",
   "version": "3.10.11"
  }
 },
 "nbformat": 4,
 "nbformat_minor": 5
}
